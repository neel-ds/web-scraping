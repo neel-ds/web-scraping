{
  "nbformat": 4,
  "nbformat_minor": 0,
  "metadata": {
    "colab": {
      "name": "hwspSec3_webAPIs.ipynb",
      "provenance": [],
      "collapsed_sections": [
        "bUHw3hhTv64M",
        "cPJ6Pbisv1GR"
      ]
    },
    "kernelspec": {
      "name": "python3",
      "display_name": "Python 3"
    },
    "language_info": {
      "name": "python"
    }
  },
  "cells": [
    {
      "cell_type": "code",
      "metadata": {
        "id": "Gc-xWAxxdle0"
      },
      "source": [
        "#Clone reference code repository\n",
        "!npx degit PacktPublishing/Hands-On-Web-Scraping-with-Python/Chapter07 chp7"
      ],
      "execution_count": null,
      "outputs": []
    },
    {
      "cell_type": "code",
      "metadata": {
        "id": "LsA_1JACuYqU"
      },
      "source": [
        "import os\n",
        "os.chdir('chp7')"
      ],
      "execution_count": null,
      "outputs": []
    },
    {
      "cell_type": "markdown",
      "metadata": {
        "id": "bUHw3hhTv64M"
      },
      "source": [
        "## Accessing web API and data formats"
      ]
    },
    {
      "cell_type": "code",
      "source": [
        "#Case 1 - accesing a simple API (request and response)\n",
        "!cat sunrisesunset.py"
      ],
      "metadata": {
        "id": "eSdQf9P-QU2G"
      },
      "execution_count": null,
      "outputs": []
    },
    {
      "cell_type": "code",
      "metadata": {
        "id": "cfMprieatqMl"
      },
      "source": [
        "!python sunrisesunset.py"
      ],
      "execution_count": null,
      "outputs": []
    },
    {
      "cell_type": "code",
      "metadata": {
        "id": "ZZhsV9F8uWM8"
      },
      "source": [
        "#Case 2 - demostrating status codes and informative resposes from the API\n",
        "!cat twitter200.py"
      ],
      "execution_count": null,
      "outputs": []
    },
    {
      "cell_type": "code",
      "source": [
        "!python twitter200.py"
      ],
      "metadata": {
        "id": "gP8_G7TGQe5g"
      },
      "execution_count": null,
      "outputs": []
    },
    {
      "cell_type": "code",
      "metadata": {
        "id": "fEo9kbwdu90Z"
      },
      "source": [
        "#Case 3 - demonstrating RESTful API cache functionality\n",
        "!cat githubAPI.py"
      ],
      "execution_count": null,
      "outputs": []
    },
    {
      "cell_type": "code",
      "metadata": {
        "id": "vDk3WXF0voTn"
      },
      "source": [
        "!python githubAPI.py"
      ],
      "execution_count": null,
      "outputs": []
    },
    {
      "cell_type": "markdown",
      "metadata": {
        "id": "cPJ6Pbisv1GR"
      },
      "source": [
        "## Web Scraping using APIs"
      ]
    },
    {
      "cell_type": "code",
      "metadata": {
        "id": "wHEm_340vtjd"
      },
      "source": [
        "#Example 1 - searching and collecting university names and URLs\n",
        "!cat universities.py"
      ],
      "execution_count": null,
      "outputs": []
    },
    {
      "cell_type": "code",
      "metadata": {
        "id": "TAMm7GX_wt7Y"
      },
      "source": [
        "!python universities.py"
      ],
      "execution_count": null,
      "outputs": []
    },
    {
      "cell_type": "code",
      "metadata": {
        "id": "3LfAkRFuw0bK"
      },
      "source": [
        "#Example 2 - scarping information from GitHub events\n",
        "!cat githubevent.py"
      ],
      "execution_count": null,
      "outputs": []
    },
    {
      "cell_type": "code",
      "metadata": {
        "id": "C5ELkAlLxJEF"
      },
      "source": [
        "!python githubevent.py"
      ],
      "execution_count": null,
      "outputs": []
    }
  ]
}