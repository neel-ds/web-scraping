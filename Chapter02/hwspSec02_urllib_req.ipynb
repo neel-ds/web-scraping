{
  "nbformat": 4,
  "nbformat_minor": 0,
  "metadata": {
    "colab": {
      "name": "hwspSec2_urllib_req.ipynb",
      "provenance": [],
      "collapsed_sections": [
        "c3HO1PeJGe98",
        "9ZqpS4EQKHA3",
        "HupYyzomUyqs"
      ]
    },
    "kernelspec": {
      "name": "python3",
      "display_name": "Python 3"
    },
    "language_info": {
      "name": "python"
    }
  },
  "cells": [
    {
      "cell_type": "markdown",
      "metadata": {
        "id": "uqcu6QoLBWmb"
      },
      "source": [
        "###Import Libraries"
      ]
    },
    {
      "cell_type": "code",
      "metadata": {
        "id": "FV2BMjLY5UvS"
      },
      "source": [
        "import urllib\n",
        "import urllib.request as req\n",
        "import requests\n",
        "import os"
      ],
      "execution_count": null,
      "outputs": []
    },
    {
      "cell_type": "markdown",
      "metadata": {
        "id": "rL_V_TlLBrwk"
      },
      "source": [
        "## Use urllib"
      ]
    },
    {
      "cell_type": "code",
      "metadata": {
        "id": "Fx9OELYUByzj"
      },
      "source": [
        "link=\"https://www.google.com\"\n",
        "res=req.urlopen(link)"
      ],
      "execution_count": null,
      "outputs": []
    },
    {
      "cell_type": "code",
      "metadata": {
        "id": "X27MaSUCCBMq"
      },
      "source": [
        "print(type(res))\n",
        "print('\\n')\n",
        "print(res.read())"
      ],
      "execution_count": null,
      "outputs": []
    },
    {
      "cell_type": "markdown",
      "metadata": {
        "id": "B7EDoQvbCL0b"
      },
      "source": [
        "## Use Requests"
      ]
    },
    {
      "cell_type": "code",
      "metadata": {
        "id": "KwLxewHhCP2X"
      },
      "source": [
        "link=\"https://www.google.com\"\n",
        "res=requests.get(link)"
      ],
      "execution_count": null,
      "outputs": []
    },
    {
      "cell_type": "code",
      "metadata": {
        "id": "mvJSimLvCZAw"
      },
      "source": [
        "print(type(res))\n",
        "print('\\n')\n",
        "cont=res.content\n",
        "print(cont[0:150])"
      ],
      "execution_count": null,
      "outputs": []
    },
    {
      "cell_type": "markdown",
      "metadata": {
        "id": "hCmeFbOrCxKd"
      },
      "source": [
        "## Robot.txt & Sitemap.xml"
      ]
    },
    {
      "cell_type": "code",
      "metadata": {
        "id": "W-oyo4TTC2i8"
      },
      "source": [
        "urllib.request.urlretrieve('https://www.samsclub.com/robots.txt')"
      ],
      "execution_count": null,
      "outputs": []
    },
    {
      "cell_type": "code",
      "metadata": {
        "id": "g5_eYtJNC89G"
      },
      "source": [
        " link='https://www.samsclub.com/robots.txt'\n",
        " urllib.request.urlretrieve(link,\"testrobots.txt\") "
      ],
      "execution_count": null,
      "outputs": []
    },
    {
      "cell_type": "code",
      "metadata": {
        "id": "dgHwU8XHDlCw"
      },
      "source": [
        "cont=req.urlopen('https://www.samsclub.com/robots.txt').read()\n",
        "file=open(os.getcwd()+os.sep+\"robots.txt\",'wb+')"
      ],
      "execution_count": null,
      "outputs": []
    },
    {
      "cell_type": "code",
      "metadata": {
        "id": "UrS7uxsKq9qh"
      },
      "source": [
        "file.write(cont)"
      ],
      "execution_count": null,
      "outputs": []
    },
    {
      "cell_type": "code",
      "metadata": {
        "id": "kL-G08m4rBMR"
      },
      "source": [
        "file.close()"
      ],
      "execution_count": null,
      "outputs": []
    },
    {
      "cell_type": "code",
      "metadata": {
        "id": "_m_BDVXREJsS"
      },
      "source": [
        "link='https://www.samsclub.com/sitemap.xml'\n",
        "cont=requests.get(link).content\n",
        "file = open(os.getcwd()+os.sep+\"sitemap.xml\",\"wb+\")\n",
        "file.write(cont)\n",
        "file.close()"
      ],
      "execution_count": null,
      "outputs": []
    },
    {
      "cell_type": "markdown",
      "metadata": {
        "id": "5LapN_yhFYWx"
      },
      "source": [
        "Decode"
      ]
    },
    {
      "cell_type": "code",
      "metadata": {
        "id": "5iekTANkFX65"
      },
      "source": [
        "cont=requests.get(link).text\n",
        "cont=requests.get(link).content\n",
        "cont.decode()"
      ],
      "execution_count": null,
      "outputs": []
    },
    {
      "cell_type": "code",
      "metadata": {
        "id": "o08oA7-FF5TA"
      },
      "source": [
        "url='https://www.google.com'\n",
        "someRequest=req.urlopen(url)\n",
        "someRequest.getheaders()"
      ],
      "execution_count": null,
      "outputs": []
    },
    {
      "cell_type": "code",
      "metadata": {
        "id": "R68GqDnqGJgg"
      },
      "source": [
        "someRequest.getheader(\"Content-Type\")"
      ],
      "execution_count": null,
      "outputs": []
    },
    {
      "cell_type": "markdown",
      "metadata": {
        "id": "c3HO1PeJGe98"
      },
      "source": [
        "## URLLIB"
      ]
    },
    {
      "cell_type": "code",
      "metadata": {
        "id": "WkVNJRnUGejG"
      },
      "source": [
        "#urllib.request | urllib.response\n",
        "link='https://www.google.com'"
      ],
      "execution_count": null,
      "outputs": []
    },
    {
      "cell_type": "code",
      "metadata": {
        "id": "4CLjGn5LGzBk"
      },
      "source": [
        "linkRequest = urllib.request.urlopen(link) #open link\n",
        "print(type(linkRequest)) "
      ],
      "execution_count": null,
      "outputs": []
    },
    {
      "cell_type": "code",
      "metadata": {
        "id": "BEQtXd0YG-Fg"
      },
      "source": [
        "linkResponse = urllib.request.urlopen(link).read() #open link and read content\n",
        "print(type(linkResponse))"
      ],
      "execution_count": null,
      "outputs": []
    },
    {
      "cell_type": "code",
      "metadata": {
        "id": "yWauOXRMHAMs"
      },
      "source": [
        "requestObj = urllib.request.Request('https:/www.samsclub.com/robots.txt')\n",
        "print(type(requestObj)) "
      ],
      "execution_count": null,
      "outputs": []
    },
    {
      "cell_type": "code",
      "metadata": {
        "id": "3xSXUopBHF6G"
      },
      "source": [
        "#requestObjResponse = req.urlopen(requestObj).read()\n",
        "print(type(requestObjResponse))"
      ],
      "execution_count": null,
      "outputs": []
    },
    {
      "cell_type": "code",
      "metadata": {
        "id": "e8-O7lSVHJZq"
      },
      "source": [
        "#linkRequest.getcode()\n",
        "#linkRequest.code\n",
        "linkRequest.status"
      ],
      "execution_count": null,
      "outputs": []
    },
    {
      "cell_type": "code",
      "metadata": {
        "id": "lVWBQltDHSF3"
      },
      "source": [
        "# linkRequest.geturl()\n",
        "linkRequest.url"
      ],
      "execution_count": null,
      "outputs": []
    },
    {
      "cell_type": "code",
      "metadata": {
        "id": "k-P1X--HHYeQ"
      },
      "source": [
        "linkRequest._method"
      ],
      "execution_count": null,
      "outputs": []
    },
    {
      "cell_type": "code",
      "metadata": {
        "id": "HTBm_EsJHcIm"
      },
      "source": [
        "linkRequest.getheaders()"
      ],
      "execution_count": null,
      "outputs": []
    },
    {
      "cell_type": "code",
      "metadata": {
        "id": "Z2l9NTXgHiN8"
      },
      "source": [
        "linkRequest.info()['content-type']"
      ],
      "execution_count": null,
      "outputs": []
    },
    {
      "cell_type": "markdown",
      "metadata": {
        "id": "TR-GrV0iHvXI"
      },
      "source": [
        "Error | Parse"
      ]
    },
    {
      "cell_type": "code",
      "metadata": {
        "id": "iJc82zSaHw8i"
      },
      "source": [
        "import urllib.error as error\n",
        "import urllib.parse as urlparse"
      ],
      "execution_count": null,
      "outputs": []
    },
    {
      "cell_type": "code",
      "metadata": {
        "id": "3-9tODynH1xa"
      },
      "source": [
        " try: #attempting an error case\n",
        "  req.urlopen(\"https://www.python.ogr\") #wrong URL is passed to urlopen()\n",
        " except error.URLError as e:\n",
        "  print(\"Error Occurred: \",e.reason)"
      ],
      "execution_count": null,
      "outputs": []
    },
    {
      "cell_type": "code",
      "metadata": {
        "id": "MCgtrdvky-fc"
      },
      "source": [
        "print(dir(urlparse))"
      ],
      "execution_count": null,
      "outputs": []
    },
    {
      "cell_type": "code",
      "metadata": {
        "id": "t8UpkzJnIAlY"
      },
      "source": [
        "amazonUrl ='https://www.amazon.com/s/ref=nb_sb_noss?url=search-alias%3Dstripbooks-intl-ship&field-keywords=Packt+Books'\n",
        "print(urlparse.urlsplit(amazonUrl))"
      ],
      "execution_count": null,
      "outputs": []
    },
    {
      "cell_type": "code",
      "metadata": {
        "id": "oc83JNQFIRI-"
      },
      "source": [
        "print(urlparse.urlsplit(amazonUrl).query) #query-string from amazonURL\n",
        "print(urlparse.urlsplit(amazonUrl).scheme) #return URL scheme"
      ],
      "execution_count": null,
      "outputs": []
    },
    {
      "cell_type": "code",
      "metadata": {
        "id": "OaVGAJsQIXS0"
      },
      "source": [
        "print(urlparse.urlparse(amazonUrl)) #parsing components of amazonUrl"
      ],
      "execution_count": null,
      "outputs": []
    },
    {
      "cell_type": "code",
      "metadata": {
        "id": "k82q20rXIg7_"
      },
      "source": [
        "localUrl= 'http://localhost/programming/books;2018?browse=yes&sort=ASC#footer'\n",
        "print(urlparse.urlsplit(localUrl))"
      ],
      "execution_count": null,
      "outputs": []
    },
    {
      "cell_type": "code",
      "metadata": {
        "id": "S57y5j7BImw4"
      },
      "source": [
        "parseLink = urlparse.urlparse(localUrl)"
      ],
      "execution_count": null,
      "outputs": []
    },
    {
      "cell_type": "code",
      "metadata": {
        "id": "SXTWuvejInYi"
      },
      "source": [
        "print(parseLink.path) #path without domain information"
      ],
      "execution_count": null,
      "outputs": []
    },
    {
      "cell_type": "code",
      "metadata": {
        "id": "y14H64MtIrBc"
      },
      "source": [
        "print(parseLink.params) #parameters\n",
        "print(parseLink.fragment) #fragment information from URL"
      ],
      "execution_count": null,
      "outputs": []
    },
    {
      "cell_type": "code",
      "metadata": {
        "id": "oFA8rEKOIzqZ"
      },
      "source": [
        "data = {'param1': 'value1', 'param2': 'value2'}\n",
        "urlparse.urlencode(data)"
      ],
      "execution_count": null,
      "outputs": []
    },
    {
      "cell_type": "code",
      "metadata": {
        "id": "KSZ97WwTI4GL"
      },
      "source": [
        "urlparse.parse_qs(urlparse.urlencode(data))"
      ],
      "execution_count": null,
      "outputs": []
    },
    {
      "cell_type": "code",
      "metadata": {
        "id": "ZFG8rg_rI79F"
      },
      "source": [
        " urlparse.urlencode(data).encode('utf-8')"
      ],
      "execution_count": null,
      "outputs": []
    },
    {
      "cell_type": "markdown",
      "metadata": {
        "id": "Eh9KXoiGJMm-"
      },
      "source": [
        "Parse (Quote)"
      ]
    },
    {
      "cell_type": "code",
      "metadata": {
        "id": "HwsgznJYJJGz"
      },
      "source": [
        "url=\"http://localhost:8080/~cache/datafile?id=1345322&display=yes&expiry=false\"\n",
        "urlparse.quote(url)"
      ],
      "execution_count": null,
      "outputs": []
    },
    {
      "cell_type": "code",
      "metadata": {
        "id": "4kE1jPRsJUO8"
      },
      "source": [
        "urlparse.unquote(url)"
      ],
      "execution_count": null,
      "outputs": []
    },
    {
      "cell_type": "code",
      "metadata": {
        "id": "7OMtqzOjJWlx"
      },
      "source": [
        "urlparse.quote_plus(url)"
      ],
      "execution_count": null,
      "outputs": []
    },
    {
      "cell_type": "code",
      "metadata": {
        "id": "TyUl41qmJb_q"
      },
      "source": [
        "urlparse.unquote_plus(url)"
      ],
      "execution_count": null,
      "outputs": []
    },
    {
      "cell_type": "code",
      "metadata": {
        "id": "hMr26W_LJfQK"
      },
      "source": [
        "urlparse.urljoin('http://localhost:8080/~cache/','datafile') #creating URL"
      ],
      "execution_count": null,
      "outputs": []
    },
    {
      "cell_type": "code",
      "metadata": {
        "id": "2g58M4S_JoTQ"
      },
      "source": [
        "urlparse.urljoin('http://localhost:8080/~cache/datafile/','id=1345322&display=yes')"
      ],
      "execution_count": null,
      "outputs": []
    },
    {
      "cell_type": "markdown",
      "metadata": {
        "id": "PLLcTk-1Js3A"
      },
      "source": [
        "Robot Parser"
      ]
    },
    {
      "cell_type": "code",
      "metadata": {
        "id": "uZJXMCpKJwV2"
      },
      "source": [
        "import urllib.robotparser as robot"
      ],
      "execution_count": null,
      "outputs": []
    },
    {
      "cell_type": "code",
      "metadata": {
        "id": "4kJ_FCC6J1Li"
      },
      "source": [
        "par=robot.RobotFileParser()\n",
        "par.set_url('https://www.samsclub.com/robots.txt') #setting robots URL\n",
        "par.read() #reading URL content\n",
        "print(par)"
      ],
      "execution_count": null,
      "outputs": []
    },
    {
      "cell_type": "code",
      "metadata": {
        "id": "CaO3YSm1KAVa"
      },
      "source": [
        "par.can_fetch('*','https://www.samsclub.com/category') "
      ],
      "execution_count": null,
      "outputs": []
    },
    {
      "cell_type": "code",
      "metadata": {
        "id": "Dr7hw12bKD01"
      },
      "source": [
        "par.can_fetch('*','https://www.samsclub.com/friend')"
      ],
      "execution_count": null,
      "outputs": []
    },
    {
      "cell_type": "markdown",
      "metadata": {
        "id": "9ZqpS4EQKHA3"
      },
      "source": [
        "## REQUESTS"
      ]
    },
    {
      "cell_type": "code",
      "metadata": {
        "id": "zah9QqZIKJcH"
      },
      "source": [
        "link='https://www.python.org'\n",
        "r=requests.get(link)"
      ],
      "execution_count": null,
      "outputs": []
    },
    {
      "cell_type": "code",
      "metadata": {
        "id": "chnkcttFTRvw"
      },
      "source": [
        "print(type(r))\n",
        "dir(r)"
      ],
      "execution_count": null,
      "outputs": []
    },
    {
      "cell_type": "code",
      "metadata": {
        "id": "lA3WtU-8TZp5"
      },
      "source": [
        "r.url"
      ],
      "execution_count": null,
      "outputs": []
    },
    {
      "cell_type": "code",
      "metadata": {
        "id": "uBrYu0kwTZYx"
      },
      "source": [
        "r.status_code"
      ],
      "execution_count": null,
      "outputs": []
    },
    {
      "cell_type": "code",
      "metadata": {
        "id": "k2ucbn3lTdEI"
      },
      "source": [
        "r.history"
      ],
      "execution_count": null,
      "outputs": []
    },
    {
      "cell_type": "code",
      "metadata": {
        "id": "NR7dsKfOThOn"
      },
      "source": [
        "r.headers\n",
        "# r.headers['Content-Type']"
      ],
      "execution_count": null,
      "outputs": []
    },
    {
      "cell_type": "code",
      "metadata": {
        "id": "7LVvZATcTi-h"
      },
      "source": [
        "r.request.headers"
      ],
      "execution_count": null,
      "outputs": []
    },
    {
      "cell_type": "code",
      "metadata": {
        "id": "EnvIgB9ATr3e"
      },
      "source": [
        "r.encoding"
      ],
      "execution_count": null,
      "outputs": []
    },
    {
      "cell_type": "code",
      "metadata": {
        "id": "GZCQsq31TuiA"
      },
      "source": [
        "r.content[0:301]"
      ],
      "execution_count": null,
      "outputs": []
    },
    {
      "cell_type": "code",
      "metadata": {
        "id": "LkHJ-xnXTx2a"
      },
      "source": [
        "r.text[0:301]"
      ],
      "execution_count": null,
      "outputs": []
    },
    {
      "cell_type": "code",
      "metadata": {
        "id": "m6-BfocfT7DG"
      },
      "source": [
        "r = requests.get(link,stream=True) #raw response\n",
        "print(type(r.raw)) "
      ],
      "execution_count": null,
      "outputs": []
    },
    {
      "cell_type": "code",
      "metadata": {
        "id": "I3y3a9emT-dZ"
      },
      "source": [
        "r.raw.read(100)"
      ],
      "execution_count": null,
      "outputs": []
    },
    {
      "cell_type": "markdown",
      "metadata": {
        "id": "cqRogrK0UHGm"
      },
      "source": [
        "Json file"
      ]
    },
    {
      "cell_type": "code",
      "metadata": {
        "id": "uapP8ewbUGXK"
      },
      "source": [
        "link = \"https://feeds.citibikenyc.com/stations/stations.json\"\n",
        "response = requests.get(link).json()"
      ],
      "execution_count": null,
      "outputs": []
    },
    {
      "cell_type": "code",
      "metadata": {
        "id": "_A2Na0diUMFW"
      },
      "source": [
        "for i in range(10): #read 10 stationName from JSON response.\n",
        "  print('Station ',response['stationBeanList'][i]['stationName'])"
      ],
      "execution_count": null,
      "outputs": []
    },
    {
      "cell_type": "markdown",
      "metadata": {
        "id": "HupYyzomUyqs"
      },
      "source": [
        "## Implementing HTTP methods"
      ]
    },
    {
      "cell_type": "code",
      "metadata": {
        "id": "Nje2HI2eUtQI"
      },
      "source": [
        "link=\"http://localhost:8080/~cache\"\n",
        "queries= {'id':'123456','display':'yes'}\n",
        "addedheaders={'user-agent':''}\n",
        "r = requests.get(link, params=queries, headers=addedheaders) \n",
        "print(r.url)"
      ],
      "execution_count": null,
      "outputs": []
    },
    {
      "cell_type": "code",
      "metadata": {
        "id": "ngOymn5HVh88"
      },
      "source": [
        "pageUrl=\"http://httpbin.org/forms/post\"\n",
        "postUrl=\"http://httpbin.org/post\"\n",
        "params = {'custname':'Mr. ABC','custtel':'','custemail':'abc@somedomain.com','size':'small',\n",
        "'topping':['cheese','mushroom'],'delivery':'13:00','comments':'None'}\n",
        "headers={ 'Accept':'text/html,application/xhtml+xml,application/xml;q=0.9,image/webp,image/apng,*/*;q=0.8',\n",
        "         'Content-Type':'application/x-www-form-urlencoded',\n",
        "         'Referer':'http://httpbin.org/forms/post'\n",
        "}\n",
        "#making POST request to postUrl with params and request headers, response will be read as JSON\n",
        "response = requests.post(postUrl,data=params,headers=headers).json()\n",
        "print(response)"
      ],
      "execution_count": null,
      "outputs": []
    }
  ]
}