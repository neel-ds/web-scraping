{
  "nbformat": 4,
  "nbformat_minor": 0,
  "metadata": {
    "colab": {
      "name": "hwspSec3_secureWeb",
      "provenance": []
    },
    "kernelspec": {
      "name": "python3",
      "display_name": "Python 3"
    },
    "language_info": {
      "name": "python"
    }
  },
  "cells": [
    {
      "cell_type": "markdown",
      "metadata": {
        "id": "cxhNX0hmZvG2"
      },
      "source": [
        "# Working with Secure Web"
      ]
    },
    {
      "cell_type": "code",
      "metadata": {
        "id": "oVb5xIuHn8ux"
      },
      "source": [
        "#Install Chapter 6 from the original repo to run py files\n",
        "!npx degit PacktPublishing/Hands-On-Web-Scraping-with-Python/Chapter06 -f chp6"
      ],
      "execution_count": null,
      "outputs": []
    },
    {
      "cell_type": "code",
      "metadata": {
        "id": "Ndq2oDVVaxjw"
      },
      "source": [
        "import os\n",
        "os.chdir('chp6')"
      ],
      "execution_count": null,
      "outputs": []
    },
    {
      "cell_type": "code",
      "metadata": {
        "id": "9670rFfqa4o2"
      },
      "source": [
        "#requirements for following py files\n",
        "!pip install pyquery"
      ],
      "execution_count": null,
      "outputs": []
    },
    {
      "cell_type": "markdown",
      "metadata": {
        "id": "A7q60DECaUVT"
      },
      "source": [
        "## HTML \\<form> processing"
      ]
    },
    {
      "cell_type": "code",
      "metadata": {
        "id": "x2b94W9bH6nQ"
      },
      "source": [
        "!cat toScrapeViewstate.py"
      ],
      "execution_count": null,
      "outputs": []
    },
    {
      "cell_type": "code",
      "metadata": {
        "id": "xpAA-TyNaN_A"
      },
      "source": [
        "!python toScrapeViewstate.py"
      ],
      "execution_count": null,
      "outputs": []
    },
    {
      "cell_type": "markdown",
      "metadata": {
        "id": "xdfEtuFEcRuI"
      },
      "source": [
        "## Handling User Authentication"
      ]
    },
    {
      "cell_type": "code",
      "metadata": {
        "id": "k1Ysov0wIAiQ"
      },
      "source": [
        "!cat toScrapeSessionCookie.py"
      ],
      "execution_count": null,
      "outputs": []
    },
    {
      "cell_type": "code",
      "metadata": {
        "id": "mzyNGVMOattu"
      },
      "source": [
        "!python toScrapeSessionCookie.py"
      ],
      "execution_count": null,
      "outputs": []
    },
    {
      "cell_type": "markdown",
      "metadata": {
        "id": "L3dJqpVbccs-"
      },
      "source": [
        "## Working with cookies and sessions"
      ]
    },
    {
      "cell_type": "code",
      "metadata": {
        "id": "ad3StCd0ID5R"
      },
      "source": [
        "!cat testingGroundCookie.py"
      ],
      "execution_count": null,
      "outputs": []
    },
    {
      "cell_type": "code",
      "metadata": {
        "id": "lLGzo-IkbVRz"
      },
      "source": [
        "!python testingGroundCookie.py"
      ],
      "execution_count": null,
      "outputs": []
    }
  ]
}