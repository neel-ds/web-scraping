{
  "nbformat": 4,
  "nbformat_minor": 0,
  "metadata": {
    "colab": {
      "name": "hwspSec3_seleniumweb.ipynb",
      "provenance": [],
      "collapsed_sections": []
    },
    "kernelspec": {
      "name": "python3",
      "display_name": "Python 3"
    },
    "language_info": {
      "name": "python"
    }
  },
  "cells": [
    {
      "cell_type": "markdown",
      "metadata": {
        "id": "XI9FUbbG4Neb"
      },
      "source": [
        "## Exploring Selenium"
      ]
    },
    {
      "cell_type": "code",
      "metadata": {
        "id": "SFG07KdMzGUN"
      },
      "source": [
        "!npx degit PacktPublishing/Hands-On-Web-Scraping-with-Python/Chapter08 -f chp8"
      ],
      "execution_count": null,
      "outputs": []
    },
    {
      "cell_type": "code",
      "metadata": {
        "id": "x3wXcD0W9sBG"
      },
      "source": [
        "import os\n",
        "os.chdir('chp8')"
      ],
      "execution_count": null,
      "outputs": []
    },
    {
      "cell_type": "code",
      "source": [
        "!pip install selenium"
      ],
      "metadata": {
        "id": "A9wzIOIwN3tC"
      },
      "execution_count": null,
      "outputs": []
    },
    {
      "cell_type": "markdown",
      "metadata": {
        "id": "09pdb6d-bRK-"
      },
      "source": [
        "## Install kora to use webdriver"
      ]
    },
    {
      "cell_type": "code",
      "metadata": {
        "id": "5VDF9fVRiWkQ"
      },
      "source": [
        "!pip install kora -q"
      ],
      "execution_count": null,
      "outputs": []
    },
    {
      "cell_type": "markdown",
      "metadata": {
        "id": "1Rs5QK8BjaE6"
      },
      "source": [
        "### Comment 2nd and 3rd line in every py file [incase of seleniumBooks.py comment 4th and 5th line] \n",
        "### Paste the following line instead\n",
        "### from kora.selenium import wd as driver"
      ]
    },
    {
      "cell_type": "markdown",
      "metadata": {
        "id": "12WWmKjZ9lGF"
      },
      "source": [
        "### Accessing browser properties"
      ]
    },
    {
      "cell_type": "code",
      "metadata": {
        "id": "Dvx4z9OH9i00"
      },
      "source": [
        "!cat seleniumBrowser.py"
      ],
      "execution_count": null,
      "outputs": []
    },
    {
      "cell_type": "code",
      "metadata": {
        "id": "0Y-iFMG292IU"
      },
      "source": [
        "!python seleniumBrowser.py"
      ],
      "execution_count": null,
      "outputs": []
    },
    {
      "cell_type": "markdown",
      "metadata": {
        "id": "wKUzr57Y_Et4"
      },
      "source": [
        "### Locating web elements"
      ]
    },
    {
      "cell_type": "code",
      "metadata": {
        "id": "yPRU5Twn94CN"
      },
      "source": [
        "!cat seleniumLocator.py"
      ],
      "execution_count": null,
      "outputs": []
    },
    {
      "cell_type": "code",
      "metadata": {
        "id": "6TvazOni-iS0"
      },
      "source": [
        "!python seleniumLocator.py"
      ],
      "execution_count": null,
      "outputs": []
    },
    {
      "cell_type": "markdown",
      "metadata": {
        "id": "DxiWWMdQ_JH6"
      },
      "source": [
        "## Using selenium for web scraping"
      ]
    },
    {
      "cell_type": "code",
      "metadata": {
        "id": "GSRDnsnx-kyG"
      },
      "source": [
        "# Example 1 \n",
        "!cat seleniumProducts.py"
      ],
      "execution_count": null,
      "outputs": []
    },
    {
      "cell_type": "code",
      "metadata": {
        "id": "Bpu196oR-nUJ"
      },
      "source": [
        "!python seleniumProducts.py"
      ],
      "execution_count": null,
      "outputs": []
    },
    {
      "cell_type": "code",
      "metadata": {
        "id": "Dqy54-6w-u_X"
      },
      "source": [
        "# Example 2\n",
        "!cat seleniumBooks.py"
      ],
      "execution_count": null,
      "outputs": []
    },
    {
      "cell_type": "code",
      "metadata": {
        "id": "W3B_dwQz-1AA"
      },
      "source": [
        "!python seleniumBooks.py"
      ],
      "execution_count": null,
      "outputs": []
    }
  ]
}