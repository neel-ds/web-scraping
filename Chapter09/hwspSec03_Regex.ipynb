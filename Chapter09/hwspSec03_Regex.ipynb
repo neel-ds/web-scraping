{
  "nbformat": 4,
  "nbformat_minor": 0,
  "metadata": {
    "colab": {
      "name": "hwspSec3_Regex.ipynb",
      "provenance": [],
      "collapsed_sections": []
    },
    "kernelspec": {
      "name": "python3",
      "display_name": "Python 3"
    },
    "language_info": {
      "name": "python"
    }
  },
  "cells": [
    {
      "cell_type": "code",
      "metadata": {
        "id": "qRGtYvvOj06Z"
      },
      "source": [
        "!npx degit PacktPublishing/Hands-On-Web-Scraping-with-Python/Chapter09 -f chp9"
      ],
      "execution_count": null,
      "outputs": []
    },
    {
      "cell_type": "code",
      "metadata": {
        "id": "AR2OGVp_mUzB"
      },
      "source": [
        "import os\n",
        "os.chdir('chp9')"
      ],
      "execution_count": null,
      "outputs": []
    },
    {
      "cell_type": "markdown",
      "metadata": {
        "id": "n36ElR3Yj5uI"
      },
      "source": [
        "## Regular expressions and Python"
      ]
    },
    {
      "cell_type": "code",
      "metadata": {
        "id": "Chn9DDaiHu31"
      },
      "source": [
        "!cat regex.py"
      ],
      "execution_count": null,
      "outputs": []
    },
    {
      "cell_type": "code",
      "metadata": {
        "id": "l5rVVC6_mbQZ"
      },
      "source": [
        "!python regex.py"
      ],
      "execution_count": null,
      "outputs": []
    },
    {
      "cell_type": "markdown",
      "metadata": {
        "id": "yHpwcBNBouve"
      },
      "source": [
        "## Using regular expressions to extract data"
      ]
    },
    {
      "cell_type": "code",
      "metadata": {
        "id": "OYfgXfuuoPLE"
      },
      "source": [
        "#Example 1 - extracting HTML-based content\n",
        "!python regexHTML.py"
      ],
      "execution_count": null,
      "outputs": []
    },
    {
      "cell_type": "code",
      "metadata": {
        "id": "Nkp4RgJlIEir"
      },
      "source": [
        "#Example 2 - extracting dealer locations\n",
        "!python godfreysfeed.py"
      ],
      "execution_count": null,
      "outputs": []
    },
    {
      "cell_type": "code",
      "metadata": {
        "id": "z29Fs6-AId8X"
      },
      "source": [
        "#Example 3 - extracting XML content\n",
        "!python regex_xml.py"
      ],
      "execution_count": null,
      "outputs": []
    }
  ]
}