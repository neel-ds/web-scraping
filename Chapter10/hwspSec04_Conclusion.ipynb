{
  "nbformat": 4,
  "nbformat_minor": 0,
  "metadata": {
    "colab": {
      "name": "hwspSec4_Conclusion.ipynb",
      "provenance": [],
      "collapsed_sections": []
    },
    "kernelspec": {
      "name": "python3",
      "display_name": "Python 3"
    },
    "language_info": {
      "name": "python"
    }
  },
  "cells": [
    {
      "cell_type": "code",
      "metadata": {
        "id": "pxDXK6_qeQkE"
      },
      "source": [
        "!npx degit PacktPublishing/Hands-On-Web-Scraping-with-Python/Chapter10 -f chp10"
      ],
      "execution_count": null,
      "outputs": []
    },
    {
      "cell_type": "code",
      "metadata": {
        "id": "RrCMrxUoebou"
      },
      "source": [
        "import os\n",
        "os.chdir('chp10')"
      ],
      "execution_count": null,
      "outputs": []
    },
    {
      "cell_type": "markdown",
      "metadata": {
        "id": "CjI64FCCd5Ue"
      },
      "source": [
        "## Managing scraped data"
      ]
    },
    {
      "cell_type": "code",
      "metadata": {
        "id": "wUCjixRGc6jH"
      },
      "source": [
        "#Make sure to change two lines 45th and 46th according to column names\n",
        "#print(data[0]['Title'])\n",
        "#print(data[0]['Price'])\n",
        "!python listToCSV.py"
      ],
      "execution_count": null,
      "outputs": []
    },
    {
      "cell_type": "markdown",
      "metadata": {
        "id": "63K4_U76d-no"
      },
      "source": [
        "## Analysis and visualization using pandas and matplotlib"
      ]
    },
    {
      "cell_type": "code",
      "metadata": {
        "id": "UTeMw-TQeNWv"
      },
      "source": [
        "import pandas as pd\n",
        "import matplotlib.pyplot as plt\n",
        "\n",
        "dataSet = pd.read_csv('bookdetails.csv')\n",
        "\n",
        "print(type(dataSet))\n",
        "print(dataSet)\n",
        "print(dataSet.describe())\n",
        "print(dataSet.columns)\n",
        "print(sum(dataSet['Price']))\n",
        "print(sum(dataSet['Rating']))\n",
        "print(dataSet[['Price','Rating']])\n",
        "print(dataSet['Price'])\n",
        "print(dataSet[dataSet.Stock.str.contains(r'Out')]['Price'])\n",
        "print(dataSet[dataSet['Rating']>=4.0][['Title','Price']])\n",
        "print(dataSet[dataSet.Rating.between(3.5,4.5)]['Title'])"
      ],
      "execution_count": null,
      "outputs": []
    },
    {
      "cell_type": "code",
      "metadata": {
        "id": "NKtTiJROfoux"
      },
      "source": [
        "#Chart1\n",
        "price_group = dataSet[['Price']]\n",
        "print(price_group)\n",
        "bar_plot = price_group.plot()\n",
        "bar_plot.set_xlabel(\"No of Books\")\n",
        "bar_plot.set_ylabel(\"Price\")\n",
        "plt.show()"
      ],
      "execution_count": null,
      "outputs": []
    },
    {
      "cell_type": "code",
      "metadata": {
        "id": "ctWLDD8SgBpM"
      },
      "source": [
        "#Chart2\n",
        "price_group = dataSet[['Price']]\n",
        "bar_plot = price_group.plot(kind='bar')\n",
        "bar_plot.set_xlabel(\"No of Books\")\n",
        "bar_plot.set_ylabel(\"Price\")\n",
        "plt.show()"
      ],
      "execution_count": null,
      "outputs": []
    },
    {
      "cell_type": "code",
      "metadata": {
        "id": "hK3BWfKsgFnP"
      },
      "source": [
        "#Chart3\n",
        "price_group = dataSet[['Price','Rating']]\n",
        "bar_plot = price_group.plot(kind='bar',title=\"Book Price and Rating\")\n",
        "bar_plot.set_xlabel(\"No of Books\")\n",
        "bar_plot.set_ylabel(\"Price\")\n",
        "plt.show()"
      ],
      "execution_count": null,
      "outputs": []
    },
    {
      "cell_type": "code",
      "metadata": {
        "id": "GT7vW3XZgIYa"
      },
      "source": [
        "#Chart4\n",
        "labels = dataSet[['Stock']]\n",
        "print(labels)\n",
        "price_group = dataSet[['Price','Rating']]\n",
        "bar_plot = price_group.plot(kind='bar',title=\"Book Price and Rating\")\n",
        "bar_plot.set_xlabel(\"No of Books\")\n",
        "bar_plot.set_xticklabels(labels)\n",
        "bar_plot.set_ylabel(\"Price\")\n",
        "plt.show()"
      ],
      "execution_count": null,
      "outputs": []
    },
    {
      "cell_type": "code",
      "metadata": {
        "id": "R8XxgCEdgMHv"
      },
      "source": [
        "#Chart5 - PieChart\n",
        "prices = dataSet['Price'][0:6] #Price from first 6 items\n",
        "labels = dataSet['Title'][0:6] #Book Titles from first 6 items\n",
        "legends,ax1 = plt.pie(prices, labels=labels, shadow=True, startangle=45)\n",
        "plt.legend(legends, prices, loc=\"best\")\n",
        "plt.show()"
      ],
      "execution_count": null,
      "outputs": []
    }
  ]
}